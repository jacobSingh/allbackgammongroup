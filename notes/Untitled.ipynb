{
 "cells": [
  {
   "cell_type": "code",
   "execution_count": 44,
   "metadata": {
    "collapsed": false
   },
   "outputs": [
    {
     "data": {
      "text/html": [
       "<link media=\"all\" href=\"https://cdnjs.cloudflare.com/ajax/libs/nvd3/1.7.0/nv.d3.min.css\" type=\"text/css\"\n",
       "                        rel=\"stylesheet\"/>"
      ],
      "text/plain": [
       "<IPython.core.display.HTML object>"
      ]
     },
     "metadata": {},
     "output_type": "display_data"
    },
    {
     "data": {
      "application/javascript": [
       "$.getScript(\"https://cdnjs.cloudflare.com/ajax/libs/nvd3/1.7.0/nv.d3.min.js\")"
      ],
      "text/plain": [
       "<IPython.core.display.Javascript object>"
      ]
     },
     "metadata": {},
     "output_type": "display_data"
    },
    {
     "data": {
      "application/javascript": [
       "$.getScript(\"https://cdnjs.cloudflare.com/ajax/libs/d3/3.5.5/d3.min.js\", function() {\n",
       "                              $.getScript(\"https://cdnjs.cloudflare.com/ajax/libs/nvd3/1.7.0/nv.d3.min.js\", function() {})});"
      ],
      "text/plain": [
       "<IPython.core.display.Javascript object>"
      ]
     },
     "metadata": {},
     "output_type": "display_data"
    },
    {
     "data": {
      "text/html": [
       "<script src=\"https://cdnjs.cloudflare.com/ajax/libs/d3/3.5.5/d3.min.js\"></script>"
      ],
      "text/plain": [
       "<IPython.core.display.HTML object>"
      ]
     },
     "metadata": {},
     "output_type": "display_data"
    },
    {
     "data": {
      "text/html": [
       "<script src=\"https://cdnjs.cloudflare.com/ajax/libs/nvd3/1.7.0/nv.d3.min.js\"></script>"
      ],
      "text/plain": [
       "<IPython.core.display.HTML object>"
      ]
     },
     "metadata": {},
     "output_type": "display_data"
    },
    {
     "data": {
      "text/html": [
       "<!DOCTYPE html>\n",
       "<html lang=\"en\">\n",
       "    <head>\n",
       "        <meta charset=\"utf-8\" />\n",
       "        <link href=\"https://cdnjs.cloudflare.com/ajax/libs/nvd3/1.7.0/nv.d3.min.css\" rel=\"stylesheet\" />\n",
       "        <script src=\"https://cdnjs.cloudflare.com/ajax/libs/d3/3.5.5/d3.min.js\"></script>\n",
       "        <script src=\"https://cdnjs.cloudflare.com/ajax/libs/nvd3/1.7.0/nv.d3.min.js\"></script>\n",
       "    </head>\n",
       "    <body>\n",
       "        \n",
       "    <div id=\"stackedareachart\"><svg style=\"width:500px;height:450px;\"></svg></div>\n",
       "\n",
       "\n",
       "    <script>\n",
       "\n",
       "\n",
       "            data_stackedareachart=[{\"key\": \"serie 1\", \"values\": [{\"x\": 0, \"y\": 0}, {\"x\": 1, \"y\": 8}, {\"x\": 2, \"y\": 8}, {\"x\": 3, \"y\": 21}, {\"x\": 4, \"y\": 40}, {\"x\": 5, \"y\": 15}, {\"x\": 6, \"y\": 18}, {\"x\": 7, \"y\": 21}, {\"x\": 8, \"y\": 56}, {\"x\": 9, \"y\": 36}, {\"x\": 10, \"y\": 100}, {\"x\": 11, \"y\": 11}, {\"x\": 12, \"y\": 108}, {\"x\": 13, \"y\": 39}, {\"x\": 14, \"y\": 14}, {\"x\": 15, \"y\": 15}, {\"x\": 16, \"y\": 160}, {\"x\": 17, \"y\": 170}, {\"x\": 18, \"y\": 36}, {\"x\": 19, \"y\": 171}, {\"x\": 20, \"y\": 60}, {\"x\": 21, \"y\": 84}, {\"x\": 22, \"y\": 220}, {\"x\": 23, \"y\": 230}, {\"x\": 24, \"y\": 96}, {\"x\": 25, \"y\": 125}, {\"x\": 26, \"y\": 234}, {\"x\": 27, \"y\": 189}, {\"x\": 28, \"y\": 84}, {\"x\": 29, \"y\": 261}, {\"x\": 30, \"y\": 150}, {\"x\": 31, \"y\": 248}, {\"x\": 32, \"y\": 32}, {\"x\": 33, \"y\": 231}, {\"x\": 34, \"y\": 272}, {\"x\": 35, \"y\": 245}, {\"x\": 36, \"y\": 36}, {\"x\": 37, \"y\": 37}, {\"x\": 38, \"y\": 342}, {\"x\": 39, \"y\": 117}, {\"x\": 40, \"y\": 40}, {\"x\": 41, \"y\": 246}, {\"x\": 42, \"y\": 420}, {\"x\": 43, \"y\": 301}, {\"x\": 44, \"y\": 352}, {\"x\": 45, \"y\": 225}, {\"x\": 46, \"y\": 138}, {\"x\": 47, \"y\": 235}, {\"x\": 48, \"y\": 384}, {\"x\": 49, \"y\": 196}], \"yAxis\": \"1\"}, {\"key\": \"serie 2\", \"values\": [{\"x\": 0, \"y\": 0}, {\"x\": 1, \"y\": 16}, {\"x\": 2, \"y\": 16}, {\"x\": 3, \"y\": 42}, {\"x\": 4, \"y\": 80}, {\"x\": 5, \"y\": 30}, {\"x\": 6, \"y\": 36}, {\"x\": 7, \"y\": 42}, {\"x\": 8, \"y\": 112}, {\"x\": 9, \"y\": 72}, {\"x\": 10, \"y\": 200}, {\"x\": 11, \"y\": 22}, {\"x\": 12, \"y\": 216}, {\"x\": 13, \"y\": 78}, {\"x\": 14, \"y\": 28}, {\"x\": 15, \"y\": 30}, {\"x\": 16, \"y\": 320}, {\"x\": 17, \"y\": 340}, {\"x\": 18, \"y\": 72}, {\"x\": 19, \"y\": 342}, {\"x\": 20, \"y\": 120}, {\"x\": 21, \"y\": 168}, {\"x\": 22, \"y\": 440}, {\"x\": 23, \"y\": 460}, {\"x\": 24, \"y\": 192}, {\"x\": 25, \"y\": 250}, {\"x\": 26, \"y\": 468}, {\"x\": 27, \"y\": 378}, {\"x\": 28, \"y\": 168}, {\"x\": 29, \"y\": 522}, {\"x\": 30, \"y\": 300}, {\"x\": 31, \"y\": 496}, {\"x\": 32, \"y\": 64}, {\"x\": 33, \"y\": 462}, {\"x\": 34, \"y\": 544}, {\"x\": 35, \"y\": 490}, {\"x\": 36, \"y\": 72}, {\"x\": 37, \"y\": 74}, {\"x\": 38, \"y\": 684}, {\"x\": 39, \"y\": 234}, {\"x\": 40, \"y\": 80}, {\"x\": 41, \"y\": 492}, {\"x\": 42, \"y\": 840}, {\"x\": 43, \"y\": 602}, {\"x\": 44, \"y\": 704}, {\"x\": 45, \"y\": 450}, {\"x\": 46, \"y\": 276}, {\"x\": 47, \"y\": 470}, {\"x\": 48, \"y\": 768}, {\"x\": 49, \"y\": 392}], \"yAxis\": \"1\"}, {\"key\": \"serie 3\", \"values\": [{\"x\": 0, \"y\": 0}, {\"x\": 1, \"y\": 40}, {\"x\": 2, \"y\": 40}, {\"x\": 3, \"y\": 105}, {\"x\": 4, \"y\": 200}, {\"x\": 5, \"y\": 75}, {\"x\": 6, \"y\": 90}, {\"x\": 7, \"y\": 105}, {\"x\": 8, \"y\": 280}, {\"x\": 9, \"y\": 180}, {\"x\": 10, \"y\": 500}, {\"x\": 11, \"y\": 55}, {\"x\": 12, \"y\": 540}, {\"x\": 13, \"y\": 195}, {\"x\": 14, \"y\": 70}, {\"x\": 15, \"y\": 75}, {\"x\": 16, \"y\": 800}, {\"x\": 17, \"y\": 850}, {\"x\": 18, \"y\": 180}, {\"x\": 19, \"y\": 855}, {\"x\": 20, \"y\": 300}, {\"x\": 21, \"y\": 420}, {\"x\": 22, \"y\": 1100}, {\"x\": 23, \"y\": 1150}, {\"x\": 24, \"y\": 480}, {\"x\": 25, \"y\": 625}, {\"x\": 26, \"y\": 1170}, {\"x\": 27, \"y\": 945}, {\"x\": 28, \"y\": 420}, {\"x\": 29, \"y\": 1305}, {\"x\": 30, \"y\": 750}, {\"x\": 31, \"y\": 1240}, {\"x\": 32, \"y\": 160}, {\"x\": 33, \"y\": 1155}, {\"x\": 34, \"y\": 1360}, {\"x\": 35, \"y\": 1225}, {\"x\": 36, \"y\": 180}, {\"x\": 37, \"y\": 185}, {\"x\": 38, \"y\": 1710}, {\"x\": 39, \"y\": 585}, {\"x\": 40, \"y\": 200}, {\"x\": 41, \"y\": 1230}, {\"x\": 42, \"y\": 2100}, {\"x\": 43, \"y\": 1505}, {\"x\": 44, \"y\": 1760}, {\"x\": 45, \"y\": 1125}, {\"x\": 46, \"y\": 690}, {\"x\": 47, \"y\": 1175}, {\"x\": 48, \"y\": 1920}, {\"x\": 49, \"y\": 980}], \"yAxis\": \"1\"}];\n",
       "\n",
       "    nv.addGraph(function() {\n",
       "        var chart = nv.models.stackedAreaChart().useInteractiveGuideline(true);\n",
       "\n",
       "        chart.margin({top: 30, right: 60, bottom: 20, left: 60});\n",
       "\n",
       "        var datum = data_stackedareachart;\n",
       "\n",
       "\n",
       "\n",
       "\n",
       "\n",
       "            chart.xAxis\n",
       "                .tickFormat(d3.format(',.2f'));\n",
       "            chart.yAxis\n",
       "                .tickFormat(d3.format(',.2f'));\n",
       "\n",
       "\n",
       "      chart.showLegend(true);\n",
       "\n",
       "\n",
       "\n",
       "        \n",
       "\n",
       "\n",
       "        d3.select('#stackedareachart svg')\n",
       "            .datum(datum)\n",
       "            .transition().duration(500)\n",
       "            .attr('width', 500)\n",
       "            .attr('height', 450)\n",
       "            .call(chart);\n",
       "\n",
       "\n",
       "    });\n",
       "\n",
       "\n",
       "\n",
       "    </script>\n",
       "\n",
       "    </body>\n",
       "</html>"
      ],
      "text/plain": [
       "<nvd3.stackedAreaChart.stackedAreaChart at 0x1127be780>"
      ]
     },
     "execution_count": 44,
     "metadata": {},
     "output_type": "execute_result"
    }
   ],
   "source": [
    "import pandas as pd\n",
    "import numpy as np\n",
    "import datetime\n",
    "from nvd3 import lineChart\n",
    "from pprint import pprint as pp\n",
    "import os\n",
    "\n",
    "import random\n",
    "from IPython import display as d\n",
    "import nvd3\n",
    "nvd3.ipynb.initialize_javascript(use_remote=True)\n",
    "\n",
    "type = 'stackedAreaChart'\n",
    "chart2 = nvd3.stackedAreaChart(name=type,height=450,width=500, \n",
    "                               use_interactive_guideline=True)\n",
    "nb_element = 50\n",
    "xdata = range(nb_element)\n",
    "ydata = [i * random.randint(1, 10) for i in range(nb_element)]\n",
    "ydata2 = [x * 2 for x in ydata]\n",
    "ydata3 = [x * 5 for x in ydata]\n",
    "chart2.add_serie(name=\"serie 1\", y=ydata, x=xdata)\n",
    "chart2.add_serie(name=\"serie 2\", y=ydata2, x=xdata)\n",
    "chart2.add_serie(name=\"serie 3\", y=ydata3, x=xdata)\n",
    "chart2\n",
    "\n"
   ]
  },
  {
   "cell_type": "code",
   "execution_count": 45,
   "metadata": {
    "collapsed": false
   },
   "outputs": [
    {
     "name": "stderr",
     "output_type": "stream",
     "text": [
      "/Users/jacob/anaconda/envs/abg_stats/lib/python3.5/site-packages/ipykernel/__main__.py:5: SettingWithCopyWarning: \n",
      "A value is trying to be set on a copy of a slice from a DataFrame.\n",
      "Try using .loc[row_indexer,col_indexer] = value instead\n",
      "\n",
      "See the caveats in the documentation: http://pandas.pydata.org/pandas-docs/stable/indexing.html#indexing-view-versus-copy\n",
      "/Users/jacob/anaconda/envs/abg_stats/lib/python3.5/site-packages/ipykernel/__main__.py:6: SettingWithCopyWarning: \n",
      "A value is trying to be set on a copy of a slice from a DataFrame\n",
      "\n",
      "See the caveats in the documentation: http://pandas.pydata.org/pandas-docs/stable/indexing.html#indexing-view-versus-copy\n",
      "/Users/jacob/anaconda/envs/abg_stats/lib/python3.5/site-packages/pandas/core/generic.py:4485: SettingWithCopyWarning: \n",
      "A value is trying to be set on a copy of a slice from a DataFrame\n",
      "\n",
      "See the caveats in the documentation: http://pandas.pydata.org/pandas-docs/stable/indexing.html#indexing-view-versus-copy\n",
      "  self._update_inplace(new_data)\n",
      "/Users/jacob/anaconda/envs/abg_stats/lib/python3.5/site-packages/IPython/core/interactiveshell.py:2881: SettingWithCopyWarning: \n",
      "A value is trying to be set on a copy of a slice from a DataFrame\n",
      "\n",
      "See the caveats in the documentation: http://pandas.pydata.org/pandas-docs/stable/indexing.html#indexing-view-versus-copy\n",
      "  exec(code_obj, self.user_global_ns, self.user_ns)\n"
     ]
    },
    {
     "data": {
      "text/html": [
       "<!DOCTYPE html>\n",
       "<html lang=\"en\">\n",
       "    <head>\n",
       "        <meta charset=\"utf-8\" />\n",
       "        <link href=\"https://cdnjs.cloudflare.com/ajax/libs/nvd3/1.7.0/nv.d3.min.css\" rel=\"stylesheet\" />\n",
       "        <script src=\"https://cdnjs.cloudflare.com/ajax/libs/d3/3.5.5/d3.min.js\"></script>\n",
       "        <script src=\"https://cdnjs.cloudflare.com/ajax/libs/nvd3/1.7.0/nv.d3.min.js\"></script>\n",
       "    </head>\n",
       "    <body>\n",
       "        \n",
       "    <div id=\"elo_over_time\"><svg style=\"width:1000px;height:450px;\"></svg></div>\n",
       "\n",
       "\n",
       "    <script>\n",
       "\n",
       "\n",
       "\n",
       "            data_elo_over_time=[{\"key\": \"ELO\", \"values\": [{\"x\": 1432773587000.0, \"y\": 1524.2464440332744}, {\"x\": 1432820210000.0, \"y\": 1504.8409448034406}, {\"x\": 1435271132000.0, \"y\": 1525.9881640066876}, {\"x\": 1435584742000.0, \"y\": 1548.4675833436847}, {\"x\": 1435817764000.0, \"y\": 1525.812066553945}, {\"x\": 1438362705000.0, \"y\": 1543.5949731662486}, {\"x\": 1438619199000.0, \"y\": 1567.3137197884744}, {\"x\": 1439434826000.0, \"y\": 1585.8147552880434}, {\"x\": 1439767581000.0, \"y\": 1606.0764497046466}, {\"x\": 1439822590000.0, \"y\": 1628.3442786902804}, {\"x\": 1440077301000.0, \"y\": 1650.9801604542404}, {\"x\": 1440124387000.0, \"y\": 1666.3859179439291}, {\"x\": 1440342413000.0, \"y\": 1688.8274747417227}, {\"x\": 1440422821000.0, \"y\": 1705.9421651211014}, {\"x\": 1440426515000.0, \"y\": 1683.688938547906}, {\"x\": 1442247911000.0, \"y\": 1660.8156969344295}, {\"x\": 1442856747000.0, \"y\": 1636.9594517013907}, {\"x\": 1443532594000.0, \"y\": 1613.3182513877791}, {\"x\": 1443782165000.0, \"y\": 1596.9106598082096}, {\"x\": 1444165467000.0, \"y\": 1608.2281833731695}, {\"x\": 1444664672000.0, \"y\": 1619.9810903995533}, {\"x\": 1444813845000.0, \"y\": 1632.4822093299608}, {\"x\": 1445104395000.0, \"y\": 1652.4980467881574}, {\"x\": 1445181746000.0, \"y\": 1663.8456951353314}, {\"x\": 1445182598000.0, \"y\": 1675.7415499400138}, {\"x\": 1445373596000.0, \"y\": 1690.7197546457699}, {\"x\": 1445433389000.0, \"y\": 1666.6309666281745}, {\"x\": 1445520935000.0, \"y\": 1653.4114789027972}, {\"x\": 1445868447000.0, \"y\": 1666.0301259927007}, {\"x\": 1445873241000.0, \"y\": 1676.3896707738234}, {\"x\": 1446039548000.0, \"y\": 1690.6890980460391}, {\"x\": 1446223880000.0, \"y\": 1704.5317112621426}, {\"x\": 1446441192000.0, \"y\": 1719.2422334002106}, {\"x\": 1446479030000.0, \"y\": 1735.5040483669904}, {\"x\": 1446483372000.0, \"y\": 1713.4424581546366}, {\"x\": 1447066614000.0, \"y\": 1726.223308434992}, {\"x\": 1447165532000.0, \"y\": 1713.0659092085032}, {\"x\": 1447260266000.0, \"y\": 1721.2268253666934}, {\"x\": 1447513222000.0, \"y\": 1735.4928578942065}, {\"x\": 1447520254000.0, \"y\": 1748.3142953323131}, {\"x\": 1447606157000.0, \"y\": 1734.3371470183881}, {\"x\": 1447606268000.0, \"y\": 1715.0630775146522}, {\"x\": 1447877877000.0, \"y\": 1720.6078715142728}, {\"x\": 1448123626000.0, \"y\": 1702.6153185669232}, {\"x\": 1448139091000.0, \"y\": 1689.3027354823944}, {\"x\": 1448645102000.0, \"y\": 1697.341630570426}, {\"x\": 1448946224000.0, \"y\": 1706.9153784802909}, {\"x\": 1449340701000.0, \"y\": 1712.2316296624451}, {\"x\": 1449344267000.0, \"y\": 1721.8356265790244}, {\"x\": 1449498791000.0, \"y\": 1709.5949015421963}, {\"x\": 1449713229000.0, \"y\": 1718.310011821088}, {\"x\": 1449723288000.0, \"y\": 1729.0419492414285}, {\"x\": 1450055065000.0, \"y\": 1735.9356505881867}, {\"x\": 1450139874000.0, \"y\": 1724.9995394038706}, {\"x\": 1450385148000.0, \"y\": 1730.9687441346728}, {\"x\": 1450457945000.0, \"y\": 1739.0308898428327}, {\"x\": 1450629514000.0, \"y\": 1744.973944850141}, {\"x\": 1450674207000.0, \"y\": 1735.1738823849123}, {\"x\": 1450895961000.0, \"y\": 1741.4797060094033}, {\"x\": 1451048400000.0, \"y\": 1748.372657509445}, {\"x\": 1451211535000.0, \"y\": 1738.0986945716345}, {\"x\": 1451327020000.0, \"y\": 1743.3719735441296}, {\"x\": 1451329876000.0, \"y\": 1747.675050680049}, {\"x\": 1451396742000.0, \"y\": 1739.9554397483648}, {\"x\": 1452269190000.0, \"y\": 1744.2050856484952}, {\"x\": 1452534985000.0, \"y\": 1746.8506144473445}, {\"x\": 1452546234000.0, \"y\": 1749.7620985867184}, {\"x\": 1452551669000.0, \"y\": 1753.630773346818}, {\"x\": 1452708143000.0, \"y\": 1745.3733359613416}, {\"x\": 1452868541000.0, \"y\": 1749.7943839849431}, {\"x\": 1453005959000.0, \"y\": 1753.448926383248}, {\"x\": 1453046204000.0, \"y\": 1745.6013273476765}, {\"x\": 1453078533000.0, \"y\": 1738.2469629723107}, {\"x\": 1453292447000.0, \"y\": 1731.944537004662}, {\"x\": 1453313680000.0, \"y\": 1735.1070255604234}, {\"x\": 1453727937000.0, \"y\": 1730.321690574116}, {\"x\": 1454422514000.0, \"y\": 1723.3932277281626}, {\"x\": 1454947275000.0, \"y\": 1714.8505644251593}, {\"x\": 1455028961000.0, \"y\": 1709.24512804569}, {\"x\": 1455198352000.0, \"y\": 1703.1538945668524}, {\"x\": 1455297940000.0, \"y\": 1706.6117767414355}, {\"x\": 1455597409000.0, \"y\": 1698.3456569080402}, {\"x\": 1456116027000.0, \"y\": 1690.359288429706}, {\"x\": 1456335477000.0, \"y\": 1681.9908681769546}, {\"x\": 1456666399000.0, \"y\": 1673.9453785832309}, {\"x\": 1456917876000.0, \"y\": 1677.9017381441931}, {\"x\": 1457021743000.0, \"y\": 1682.0005746675602}, {\"x\": 1457113040000.0, \"y\": 1684.6220321209507}, {\"x\": 1457521177000.0, \"y\": 1687.4932190469362}, {\"x\": 1457619215000.0, \"y\": 1683.0441087394006}, {\"x\": 1457621084000.0, \"y\": 1686.4927761764825}, {\"x\": 1459885439000.0, \"y\": 1690.4094188232452}, {\"x\": 1459958114000.0, \"y\": 1693.5854327766215}, {\"x\": 1460035979000.0, \"y\": 1697.8792130377415}, {\"x\": 1464971050000.0, \"y\": 1702.0524591499125}, {\"x\": 1465031778000.0, \"y\": 1697.047514787364}, {\"x\": 1469444127000.0, \"y\": 1691.3205138504395}, {\"x\": 1469449733000.0, \"y\": 1695.4022069233065}, {\"x\": 1475342926000.0, \"y\": 1698.9937445304306}, {\"x\": 1475344396000.0, \"y\": 1692.8756792465044}, {\"x\": 1475493032000.0, \"y\": 1696.082351435847}, {\"x\": 1475778971000.0, \"y\": 1701.0840187101135}, {\"x\": 1476289199000.0, \"y\": 1695.0400990484216}, {\"x\": 1476445128000.0, \"y\": 1698.6800796419209}, {\"x\": 1476702819000.0, \"y\": 1703.433492402105}, {\"x\": 1476991614000.0, \"y\": 1708.1072775288867}, {\"x\": 1477391699000.0, \"y\": 1702.4055880530843}, {\"x\": 1478176358000.0, \"y\": 1696.1109292417805}, {\"x\": 1478530199000.0, \"y\": 1700.3827613458307}, {\"x\": 1478883358000.0, \"y\": 1706.359626665389}, {\"x\": 1478887212000.0, \"y\": 1699.195617014841}, {\"x\": 1479377735000.0, \"y\": 1701.7557007594464}, {\"x\": 1479735850000.0, \"y\": 1706.565001971377}, {\"x\": 1479917198000.0, \"y\": 1711.1832138153754}, {\"x\": 1479919228000.0, \"y\": 1717.1475413066412}, {\"x\": 1480170114000.0, \"y\": 1723.162048185221}, {\"x\": 1480256104000.0, \"y\": 1728.0869823375376}, {\"x\": 1480256546000.0, \"y\": 1732.0836175982556}, {\"x\": 1480426626000.0, \"y\": 1724.8567421935434}], \"yAxis\": \"1\"}];\n",
       "\n",
       "\n",
       "        nv.addGraph(function() {\n",
       "        var chart = nv.models.lineChart();\n",
       "\n",
       "        chart.margin({top: 30, right: 60, bottom: 20, left: 60});\n",
       "\n",
       "        var datum = data_elo_over_time;\n",
       "\n",
       "\n",
       "\n",
       "                chart.xAxis\n",
       "                .tickFormat(function(d) { return d3.time.format('%d %b %Y')(new Date(parseInt(d))) }\n",
       ");\n",
       "            chart.yAxis\n",
       "                .tickFormat(d3.format(',.02f'));\n",
       "\n",
       "\n",
       "\n",
       "          chart.showLegend(true);\n",
       "\n",
       "\n",
       "    \n",
       "\n",
       "        \n",
       "\n",
       "\n",
       "\n",
       "            d3.select('#elo_over_time svg')\n",
       "            .datum(datum)\n",
       "            .transition().duration(500)\n",
       "            .attr('width', 1000)\n",
       "            .attr('height', 450)\n",
       "            .call(chart);\n",
       "\n",
       "\n",
       "        });\n",
       "\n",
       "\n",
       "\n",
       "    </script>\n",
       "\n",
       "    </body>\n",
       "</html>"
      ],
      "text/plain": [
       "<nvd3.lineChart.lineChart at 0x112786128>"
      ]
     },
     "execution_count": 45,
     "metadata": {},
     "output_type": "execute_result"
    }
   ],
   "source": [
    "player_name = \"Jacob Singh\"\n",
    "matches = pd.read_csv(os.path.join(\"data\", \"all_but_champ/match_log.csv\"))\n",
    "player_matches = matches[(matches[\"player1-name\"] == player_name) | (matches[\"player2-name\"] == player_name)]\n",
    "player_matches = matches[(matches[\"player1-name\"] == player_name) | (matches[\"player2-name\"] == player_name)]\n",
    "player_matches[\"ELO\"] = player_matches.loc[player_matches[\"player1-name\"] == player_name][\"player1_ELO\"]\n",
    "player_matches[\"ELO\"][player_matches[\"player2-name\"] == player_name] = player_matches.loc[player_matches[\"player2-name\"] == player_name][\"player2_ELO\"]\n",
    "player_matches = player_matches[[\"match-updated-at\", \"name\", \"winner\", \"loser\", \"winner_elo_in\", \"loser_elo\", \"ELO\"]]\n",
    "player_matches.columns=[\"Date\", \"Tournament\", \"Winner\", \"Loser\", \"Winner ELO\", \"Loser ELO\", \"Player ELO\"]\n",
    "chart = lineChart(name=\"ELO over time\", x_is_date=True, width=\"1000\")\n",
    "extra_serie = {\"tooltip\": {\"y_start\": \"START \", \"y_end\": \" DONE\"}}\n",
    "\n",
    "#pp(pd.DatetimeIndex(player_matches[\"Date\"].apply(lambda x: int(x)/1000)).tolist())\n",
    "\n",
    "f = (pd.DatetimeIndex(player_matches[\"Date\"]).astype(int) / 1000 / 1000).tolist()\n",
    "\n",
    "chart.add_serie(y=player_matches[\"Player ELO\"].tolist(), x=f, name='ELO', extra=extra_serie)\n",
    "chart"
   ]
  }
 ],
 "metadata": {
  "anaconda-cloud": {},
  "kernelspec": {
   "display_name": "Python [conda env:abg_stats]",
   "language": "python",
   "name": "conda-env-abg_stats-py"
  },
  "language_info": {
   "codemirror_mode": {
    "name": "ipython",
    "version": 3
   },
   "file_extension": ".py",
   "mimetype": "text/x-python",
   "name": "python",
   "nbconvert_exporter": "python",
   "pygments_lexer": "ipython3",
   "version": "3.5.2"
  }
 },
 "nbformat": 4,
 "nbformat_minor": 1
}
